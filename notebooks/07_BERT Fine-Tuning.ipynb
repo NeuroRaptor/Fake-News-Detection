{
 "cells": [
  {
   "cell_type": "markdown",
   "id": "85efbcaf",
   "metadata": {},
   "source": [
    "# 7. BERT Fine-Tuning "
   ]
  },
  {
   "cell_type": "markdown",
   "id": "6b76b16d",
   "metadata": {},
   "source": [
    "## 1. Import Libraries"
   ]
  },
  {
   "cell_type": "code",
   "execution_count": 2,
   "id": "2ef6db98",
   "metadata": {},
   "outputs": [],
   "source": [
    "import numpy as np\n",
    "import pandas as pd\n",
    "import pycaret\n",
    "import transformers\n",
    "from transformers import AutoModel, BertTokenizerFast\n",
    "import matplotlib.pyplot as plt\n",
    "from sklearn.metrics import ConfusionMatrixDisplay\n",
    "from sklearn.model_selection import train_test_split\n",
    "from sklearn.metrics import classification_report\n",
    "import torch\n",
    "import torch.nn as nn\n",
    "from transformers import AdamW\n",
    "#specify GPU\n",
    "device = torch.device(\"cuda\")\n"
   ]
  },
  {
   "cell_type": "markdown",
   "id": "edbfe152",
   "metadata": {},
   "source": [
    "# 2. Load Dataset"
   ]
  },
  {
   "cell_type": "code",
   "execution_count": 3,
   "id": "133f7752",
   "metadata": {},
   "outputs": [],
   "source": [
    "bert_df = pd.read_csv(\"../data/processed/balanced_fake_news_dataset.csv\")"
   ]
  },
  {
   "cell_type": "code",
   "execution_count": 4,
   "id": "9caea1ac",
   "metadata": {},
   "outputs": [
    {
     "data": {
      "text/html": [
       "<div>\n",
       "<style scoped>\n",
       "    .dataframe tbody tr th:only-of-type {\n",
       "        vertical-align: middle;\n",
       "    }\n",
       "\n",
       "    .dataframe tbody tr th {\n",
       "        vertical-align: top;\n",
       "    }\n",
       "\n",
       "    .dataframe thead th {\n",
       "        text-align: right;\n",
       "    }\n",
       "</style>\n",
       "<table border=\"1\" class=\"dataframe\">\n",
       "  <thead>\n",
       "    <tr style=\"text-align: right;\">\n",
       "      <th></th>\n",
       "      <th>text</th>\n",
       "      <th>label</th>\n",
       "      <th>original_label</th>\n",
       "      <th>dataset</th>\n",
       "      <th>clean_text</th>\n",
       "      <th>tokens</th>\n",
       "      <th>processed_text</th>\n",
       "      <th>sentiment</th>\n",
       "    </tr>\n",
       "  </thead>\n",
       "  <tbody>\n",
       "    <tr>\n",
       "      <th>0</th>\n",
       "      <td>Says comprehensive immigration reform will add...</td>\n",
       "      <td>0</td>\n",
       "      <td>half-true</td>\n",
       "      <td>LIAR</td>\n",
       "      <td>says comprehensive immigration reform will add...</td>\n",
       "      <td>['say', 'comprehensive', 'immigration', 'refor...</td>\n",
       "      <td>say comprehensive immigration reform add billi...</td>\n",
       "      <td>0.2500</td>\n",
       "    </tr>\n",
       "    <tr>\n",
       "      <th>1</th>\n",
       "      <td>Ellen DeGeneres makes joke about Jennifer Anis...</td>\n",
       "      <td>0</td>\n",
       "      <td>0</td>\n",
       "      <td>FakeNewsNet_Minimal</td>\n",
       "      <td>ellen degeneres makes joke about jennifer anis...</td>\n",
       "      <td>['ellen', 'degeneres', 'make', 'joke', 'jennif...</td>\n",
       "      <td>ellen degeneres make joke jennifer aniston mar...</td>\n",
       "      <td>0.2960</td>\n",
       "    </tr>\n",
       "    <tr>\n",
       "      <th>2</th>\n",
       "      <td>When we lower tax rates, we generate more in r...</td>\n",
       "      <td>0</td>\n",
       "      <td>half-true</td>\n",
       "      <td>LIAR</td>\n",
       "      <td>when we lower tax rates we generate more in re...</td>\n",
       "      <td>['lower', 'tax', 'rate', 'generate', 'revenue'...</td>\n",
       "      <td>lower tax rate generate revenue happened reaga...</td>\n",
       "      <td>-0.2960</td>\n",
       "    </tr>\n",
       "    <tr>\n",
       "      <th>3</th>\n",
       "      <td>Karma it s a beautiful thing A massive makeshi...</td>\n",
       "      <td>0</td>\n",
       "      <td>0</td>\n",
       "      <td>ISOT</td>\n",
       "      <td>karma it s a beautiful thing a massive makeshi...</td>\n",
       "      <td>['karma', 'beautiful', 'thing', 'massive', 'ma...</td>\n",
       "      <td>karma beautiful thing massive makeshift refuge...</td>\n",
       "      <td>0.5719</td>\n",
       "    </tr>\n",
       "    <tr>\n",
       "      <th>4</th>\n",
       "      <td>Ellen DeGeneres' wife Portia de Rossi makes he...</td>\n",
       "      <td>0</td>\n",
       "      <td>0</td>\n",
       "      <td>FakeNewsNet_Minimal</td>\n",
       "      <td>ellen degeneres wife portia de rossi makes her...</td>\n",
       "      <td>['ellen', 'degeneres', 'wife', 'portia', 'de',...</td>\n",
       "      <td>ellen degeneres wife portia de rossi make cry ...</td>\n",
       "      <td>-0.0516</td>\n",
       "    </tr>\n",
       "  </tbody>\n",
       "</table>\n",
       "</div>"
      ],
      "text/plain": [
       "                                                text  label original_label  \\\n",
       "0  Says comprehensive immigration reform will add...      0      half-true   \n",
       "1  Ellen DeGeneres makes joke about Jennifer Anis...      0              0   \n",
       "2  When we lower tax rates, we generate more in r...      0      half-true   \n",
       "3  Karma it s a beautiful thing A massive makeshi...      0              0   \n",
       "4  Ellen DeGeneres' wife Portia de Rossi makes he...      0              0   \n",
       "\n",
       "               dataset                                         clean_text  \\\n",
       "0                 LIAR  says comprehensive immigration reform will add...   \n",
       "1  FakeNewsNet_Minimal  ellen degeneres makes joke about jennifer anis...   \n",
       "2                 LIAR  when we lower tax rates we generate more in re...   \n",
       "3                 ISOT  karma it s a beautiful thing a massive makeshi...   \n",
       "4  FakeNewsNet_Minimal  ellen degeneres wife portia de rossi makes her...   \n",
       "\n",
       "                                              tokens  \\\n",
       "0  ['say', 'comprehensive', 'immigration', 'refor...   \n",
       "1  ['ellen', 'degeneres', 'make', 'joke', 'jennif...   \n",
       "2  ['lower', 'tax', 'rate', 'generate', 'revenue'...   \n",
       "3  ['karma', 'beautiful', 'thing', 'massive', 'ma...   \n",
       "4  ['ellen', 'degeneres', 'wife', 'portia', 'de',...   \n",
       "\n",
       "                                      processed_text  sentiment  \n",
       "0  say comprehensive immigration reform add billi...     0.2500  \n",
       "1  ellen degeneres make joke jennifer aniston mar...     0.2960  \n",
       "2  lower tax rate generate revenue happened reaga...    -0.2960  \n",
       "3  karma beautiful thing massive makeshift refuge...     0.5719  \n",
       "4  ellen degeneres wife portia de rossi make cry ...    -0.0516  "
      ]
     },
     "execution_count": 4,
     "metadata": {},
     "output_type": "execute_result"
    }
   ],
   "source": [
    "bert_df.head()"
   ]
  },
  {
   "cell_type": "markdown",
   "id": "2c2d9562",
   "metadata": {},
   "source": [
    "# 3. Test Train Split"
   ]
  },
  {
   "cell_type": "code",
   "execution_count": 5,
   "id": "a0ff7dee",
   "metadata": {},
   "outputs": [],
   "source": [
    "# Train-Validation-Test set split into 70 : 15 :15 ratio\n",
    "#Train -Temp split\n",
    "\n",
    "train_text, temp_text, train_labels, temp_labels = train_test_split(bert_df['processed_text'], bert_df['label'],\n",
    "                                                                    random_state=2025,\n",
    "                                                                    test_size=0.3,\n",
    "                                                                    stratify=bert_df['label'])"
   ]
  },
  {
   "cell_type": "code",
   "execution_count": 6,
   "id": "39e67b6c",
   "metadata": {},
   "outputs": [],
   "source": [
    "val_text, test_text, val_labels, test_labels = train_test_split( temp_text, temp_labels,\n",
    "                                                                test_size=0.5,       # split 30% into 15% val + 15% test\n",
    "                                                                random_state=2018,\n",
    "                                                                stratify=temp_labels\n",
    ")\n"
   ]
  },
  {
   "cell_type": "code",
   "execution_count": 7,
   "id": "28c8711a",
   "metadata": {},
   "outputs": [],
   "source": [
    "# Load BERT model and tokenizer via HuggingFace Transformers\n",
    "bert = AutoModel.from_pretrained('bert-base-uncased')\n",
    "tokenizer = BertTokenizerFast.from_pretrained('bert-base-uncased')"
   ]
  },
  {
   "cell_type": "code",
   "execution_count": 8,
   "id": "cde6d6c8",
   "metadata": {},
   "outputs": [
    {
     "data": {
      "text/plain": [
       "Text(0, 0.5, 'Number of Texts')"
      ]
     },
     "execution_count": 8,
     "metadata": {},
     "output_type": "execute_result"
    },
    {
     "data": {
      "image/png": "[encoded data removed]",
      "text/plain": [
       "<Figure size 640x480 with 1 Axes>"
      ]
     },
     "metadata": {},
     "output_type": "display_data"
    }
   ],
   "source": [
    "# plot histograms of the number of words in train data processed text\n",
    "seq_len = [len(processed_text.split()) for processed_text in train_text]\n",
    "\n",
    "pd.Series(seq_len).hist(bins = 100, color = 'firebrick')\n",
    "plt.xlim(0, 200)  # Adjust as needed\n",
    "plt.xlabel('Number of Words')\n",
    "plt.ylabel('Number of Texts')"
   ]
  },
  {
   "cell_type": "markdown",
   "id": "aeb96787",
   "metadata": {},
   "source": [
    "# 3. Prepare Input Data"
   ]
  },
  {
   "cell_type": "code",
   "execution_count": 9,
   "id": "a687ce4f",
   "metadata": {},
   "outputs": [],
   "source": [
    "# Majority of titles above have word length under 50.\n",
    "MAX_LENGHT = 50\n",
    "# Tokenize and encode sequences in the trair set\n",
    "tokens_train = tokenizer.batch_encode_plus( \n",
    "    train_text.tolist(),\n",
    "    max_length = MAX_LENGHT,\n",
    "    pad_to_max_length = True ,\n",
    "    truncation = True\n",
    ")\n",
    "\n",
    "#tokenize and encode sequences in the validation set\n",
    "\n",
    "tokens_val  = tokenizer.batch_encode_plus(\n",
    "    val_text.tolist(),\n",
    "    max_length = MAX_LENGHT,\n",
    "    pad_to_max_length =True,\n",
    "    truncation =True\n",
    ")\n",
    "\n",
    "# tokenize and encode sequences in the test set\n",
    "\n",
    "tokens_test = tokenizer.batch_encode_plus(\n",
    "    test_text.tolist(),\n",
    "    max_length =MAX_LENGHT,\n",
    "    pad_to_max_length = True,\n",
    "    truncation =True\n",
    ")"
   ]
  },
  {
   "cell_type": "code",
   "execution_count": 10,
   "id": "e8746f7b",
   "metadata": {},
   "outputs": [],
   "source": [
    "# Convert lists to tensors\n",
    "train_seq = torch.tensor(tokens_train['input_ids'])\n",
    "train_mask = torch.tensor(tokens_train['attention_mask'])\n",
    "train_y = torch.tensor(train_labels.tolist())\n",
    "\n",
    "val_seq = torch.tensor(tokens_val['input_ids'])\n",
    "val_mask = torch.tensor(tokens_val['attention_mask'])\n",
    "val_y = torch.tensor(val_labels.tolist())\n",
    "\n",
    "test_seq = torch.tensor(tokens_test['input_ids'])\n",
    "test_mask = torch.tensor(tokens_test['attention_mask'])\n",
    "test_y = torch.tensor(test_labels.tolist())\n",
    "\n"
   ]
  },
  {
   "cell_type": "code",
   "execution_count": 11,
   "id": "82c52e4e",
   "metadata": {},
   "outputs": [],
   "source": [
    "# Data loader structure definition \n",
    "\n",
    "from torch.utils.data import TensorDataset, DataLoader, RandomSampler, SequentialSampler\n",
    "\n",
    "batch_size = 32                                                                         #define a batch size         \n",
    "\n",
    "train_data = TensorDataset(train_seq, train_mask, train_y)                              #wrap tensors        \n",
    "train_sampler = RandomSampler(train_data)                                               #sampler for sampling data during training\n",
    "train_dataloader = DataLoader(train_data, sampler=train_sampler, batch_size=batch_size) # dataloader for train set \n",
    "\n",
    "val_data = TensorDataset(val_seq, val_mask, val_y)\n",
    "val_sampler = RandomSampler(val_data)\n",
    "val_dataloader = DataLoader(val_data, sampler=val_sampler, batch_size=batch_size)       # dataloader for validation set \n"
   ]
  },
  {
   "cell_type": "markdown",
   "id": "7f2f9da9",
   "metadata": {},
   "source": [
    "# 4. Freeze Layers"
   ]
  },
  {
   "cell_type": "code",
   "execution_count": 12,
   "id": "5eab794a",
   "metadata": {},
   "outputs": [],
   "source": [
    "# freezing the parameters  and defining trainable BERT structure \n",
    "\n",
    "for param in bert.parameters():\n",
    "    param.requires_grad = False             # False here means gradient need not be computed "
   ]
  },
  {
   "cell_type": "markdown",
   "id": "bc921f53",
   "metadata": {},
   "source": [
    "# 5. Define Model Architecture"
   ]
  },
  {
   "cell_type": "code",
   "execution_count": 13,
   "id": "85a3bdbe",
   "metadata": {},
   "outputs": [],
   "source": [
    "class BERT_Arch(nn.Module):\n",
    "    def __init__(self, bert):\n",
    "      super(BERT_Arch, self).__init__()\n",
    "      self.bert = bert\n",
    "      self.dropout = nn.Dropout(0.1)            # dropout layer\n",
    "      self.relu =  nn.ReLU()                    # relu activation function\n",
    "      self.fc1 = nn.Linear(768,512)             # dense layer 1\n",
    "      self.fc2 = nn.Linear(512,2)               # dense layer 2 (Output layer)\n",
    "      self.softmax = nn.LogSoftmax(dim=1)       # softmax activation function\n",
    "    def forward(self, sent_id, mask):           # define the forward pass\n",
    "      cls_hs = self.bert(sent_id, attention_mask=mask)['pooler_output']\n",
    "                                                # pass the inputs to the model\n",
    "      x = self.fc1(cls_hs)\n",
    "      x = self.relu(x)\n",
    "      x = self.dropout(x)\n",
    "      x = self.fc2(x)                           # output layer\n",
    "      x = self.softmax(x)                       # apply softmax activation\n",
    "      return x\n",
    "\n",
    "model = BERT_Arch(bert)\n",
    "# Defining the hyperparameters (optimizer, weights of the classes and the epochs)\n",
    "# Define the optimizer\n",
    "\n",
    "optimizer = AdamW(model.parameters(),\n",
    "                  lr = 1e-5)          # learning rate\n",
    "# Define the loss function\n",
    "cross_entropy  = nn.NLLLoss()\n",
    "# Number of training epochs\n",
    "epochs = 2"
   ]
  },
  {
   "cell_type": "markdown",
   "id": "cb34a414",
   "metadata": {},
   "source": [
    "# 6. Defining training and evaluation functions"
   ]
  },
  {
   "cell_type": "code",
   "execution_count": 14,
   "id": "242650b8",
   "metadata": {},
   "outputs": [],
   "source": [
    "\n",
    "def train():\n",
    "  model.train()\n",
    "  total_loss, total_accuracy = 0, 0\n",
    "\n",
    "  for step,batch in enumerate(train_dataloader):                # iterate over batches\n",
    "    if step % 50 == 0 and not step == 0:                        # progress update after every 50 batches.\n",
    "      print('  Batch {:>5,}  of  {:>5,}.'.format(step, len(train_dataloader)))\n",
    "    batch = [r for r in batch]                                  # push the batch to gpu\n",
    "    sent_id, mask, labels = batch\n",
    "    model.zero_grad()                                           # clear previously calculated gradients\n",
    "    preds = model(sent_id, mask)                                # get model predictions for current batch\n",
    "    loss = cross_entropy(preds, labels)                         # compute loss between actual & predicted values\n",
    "    total_loss = total_loss + loss.item()                       # add on to the total loss\n",
    "    loss.backward()                                             # backward pass to calculate the gradients\n",
    "    torch.nn.utils.clip_grad_norm_(model.parameters(), 1.0)     # clip gradients to 1.0. It helps in preventing exploding gradient problem\n",
    "    optimizer.step()                                            # update parameters\n",
    "    preds=preds.detach().cpu().numpy()                          # model predictions are stored on GPU. So, push it to CPU\n",
    "\n",
    "  avg_loss = total_loss / len(train_dataloader)                 # compute training loss of the epoch\n",
    "                                                                # reshape predictions in form of (# samples, # classes)\n",
    "  return avg_loss                                 # returns the loss and predictions\n",
    "\n",
    "def evaluate():\n",
    "  print(\"\\nEvaluating...\")\n",
    "  model.eval()                                    # Deactivate dropout layers\n",
    "  total_loss, total_accuracy = 0, 0\n",
    "  for step,batch in enumerate(val_dataloader):    # Iterate over batches\n",
    "    if step % 50 == 0 and not step == 0:          # Progress update every 50 batches.\n",
    "                                                  # Calculate elapsed time in minutes.\n",
    "                                                  # Elapsed = format_time(time.time() - t0)\n",
    "      print('  Batch {:>5,}  of  {:>5,}.'.format(step, len(val_dataloader)))\n",
    "                                                  # Report progress\n",
    "    batch = [t for t in batch]                    # Push the batch to GPU\n",
    "    sent_id, mask, labels = batch\n",
    "    with torch.no_grad():                         # Deactivate autograd\n",
    "      preds = model(sent_id, mask)                # Model predictions\n",
    "      loss = cross_entropy(preds,labels)          # Compute the validation loss between actual and predicted values\n",
    "      total_loss = total_loss + loss.item()\n",
    "      preds = preds.detach().cpu().numpy()\n",
    "  avg_loss = total_loss / len(val_dataloader)         # compute the validation loss of the epoch\n",
    "  return avg_loss"
   ]
  },
  {
   "cell_type": "markdown",
   "id": "0fcf828e",
   "metadata": {},
   "source": [
    "# 7. Model training"
   ]
  },
  {
   "cell_type": "code",
   "execution_count": 39,
   "id": "e277f3e1",
   "metadata": {},
   "outputs": [
    {
     "name": "stdout",
     "output_type": "stream",
     "text": [
      "\n",
      " Epoch 1 / 2\n",
      "  Batch    50  of  1,357.\n",
      "  Batch   100  of  1,357.\n",
      "  Batch   150  of  1,357.\n",
      "  Batch   200  of  1,357.\n",
      "  Batch   250  of  1,357.\n",
      "  Batch   300  of  1,357.\n",
      "  Batch   350  of  1,357.\n",
      "  Batch   400  of  1,357.\n",
      "  Batch   450  of  1,357.\n",
      "  Batch   500  of  1,357.\n",
      "  Batch   550  of  1,357.\n",
      "  Batch   600  of  1,357.\n",
      "  Batch   650  of  1,357.\n",
      "  Batch   700  of  1,357.\n",
      "  Batch   750  of  1,357.\n",
      "  Batch   800  of  1,357.\n",
      "  Batch   850  of  1,357.\n",
      "  Batch   900  of  1,357.\n",
      "  Batch   950  of  1,357.\n",
      "  Batch 1,000  of  1,357.\n",
      "  Batch 1,050  of  1,357.\n",
      "  Batch 1,100  of  1,357.\n",
      "  Batch 1,150  of  1,357.\n",
      "  Batch 1,200  of  1,357.\n",
      "  Batch 1,250  of  1,357.\n",
      "  Batch 1,300  of  1,357.\n",
      "  Batch 1,350  of  1,357.\n",
      "\n",
      "Evaluating...\n",
      "  Batch    50  of    291.\n",
      "  Batch   100  of    291.\n",
      "  Batch   150  of    291.\n",
      "  Batch   200  of    291.\n",
      "  Batch   250  of    291.\n",
      "\n",
      "Training Loss: 0.655\n",
      "Validation Loss: 0.612\n",
      "\n",
      " Epoch 2 / 2\n",
      "  Batch    50  of  1,357.\n",
      "  Batch   100  of  1,357.\n",
      "  Batch   150  of  1,357.\n",
      "  Batch   200  of  1,357.\n",
      "  Batch   250  of  1,357.\n",
      "  Batch   300  of  1,357.\n",
      "  Batch   350  of  1,357.\n",
      "  Batch   400  of  1,357.\n",
      "  Batch   450  of  1,357.\n",
      "  Batch   500  of  1,357.\n",
      "  Batch   550  of  1,357.\n",
      "  Batch   600  of  1,357.\n",
      "  Batch   650  of  1,357.\n",
      "  Batch   700  of  1,357.\n",
      "  Batch   750  of  1,357.\n",
      "  Batch   800  of  1,357.\n",
      "  Batch   850  of  1,357.\n",
      "  Batch   900  of  1,357.\n",
      "  Batch   950  of  1,357.\n",
      "  Batch 1,000  of  1,357.\n",
      "  Batch 1,050  of  1,357.\n",
      "  Batch 1,100  of  1,357.\n",
      "  Batch 1,150  of  1,357.\n",
      "  Batch 1,200  of  1,357.\n",
      "  Batch 1,250  of  1,357.\n",
      "  Batch 1,300  of  1,357.\n",
      "  Batch 1,350  of  1,357.\n",
      "\n",
      "Evaluating...\n",
      "  Batch    50  of    291.\n",
      "  Batch   100  of    291.\n",
      "  Batch   150  of    291.\n",
      "  Batch   200  of    291.\n",
      "  Batch   250  of    291.\n",
      "\n",
      "Training Loss: 0.603\n",
      "Validation Loss: 0.554\n"
     ]
    }
   ],
   "source": [
    "# Train and predict\n",
    "best_valid_loss = float('inf')\n",
    "train_losses=[]                   # empty lists to store training and validation loss of each epoch\n",
    "valid_losses=[]\n",
    "\n",
    "for epoch in range(epochs):\n",
    "    print('\\n Epoch {:} / {:}'.format(epoch + 1, epochs))\n",
    "    train_loss = train()                       # train model\n",
    "    valid_loss = evaluate()                    # evaluate model\n",
    "    if valid_loss < best_valid_loss:              # save the best model\n",
    "        best_valid_loss = valid_loss\n",
    "        torch.save(model.state_dict(), 'c2_new_model_weights.pt')\n",
    "    train_losses.append(train_loss)               # append training and validation loss\n",
    "    valid_losses.append(valid_loss)\n",
    "\n",
    "    print(f'\\nTraining Loss: {train_loss:.3f}')\n",
    "    print(f'Validation Loss: {valid_loss:.3f}')"
   ]
  },
  {
   "cell_type": "markdown",
   "id": "ff90c0b8",
   "metadata": {},
   "source": [
    "# 8. Model performance"
   ]
  },
  {
   "cell_type": "code",
   "execution_count": 15,
   "id": "ea1172b1",
   "metadata": {},
   "outputs": [
    {
     "data": {
      "text/plain": [
       "<All keys matched successfully>"
      ]
     },
     "execution_count": 15,
     "metadata": {},
     "output_type": "execute_result"
    }
   ],
   "source": [
    "# load weights of best model\n",
    "path = 'c2_new_model_weights.pt'\n",
    "model.load_state_dict(torch.load(path))"
   ]
  },
  {
   "cell_type": "code",
   "execution_count": 16,
   "id": "44773a65",
   "metadata": {},
   "outputs": [
    {
     "name": "stdout",
     "output_type": "stream",
     "text": [
      "              precision    recall  f1-score   support\n",
      "\n",
      "           0       0.79      0.70      0.74      4648\n",
      "           1       0.73      0.81      0.77      4657\n",
      "\n",
      "    accuracy                           0.76      9305\n",
      "   macro avg       0.76      0.76      0.75      9305\n",
      "weighted avg       0.76      0.76      0.75      9305\n",
      "\n"
     ]
    }
   ],
   "source": [
    "with torch.no_grad():\n",
    "  preds = model(test_seq, test_mask)\n",
    "  preds = preds.detach().cpu().numpy()\n",
    "\n",
    "preds = np.argmax(preds, axis = 1)\n",
    "print(classification_report(test_y, preds))"
   ]
  },
  {
   "cell_type": "markdown",
   "id": "e8b2d475",
   "metadata": {},
   "source": [
    "# 9. Fake News Predictions"
   ]
  },
  {
   "cell_type": "code",
   "execution_count": 17,
   "id": "203e8c79",
   "metadata": {},
   "outputs": [
    {
     "data": {
      "text/plain": [
       "array([0, 1, 1, 1], dtype=int64)"
      ]
     },
     "execution_count": 17,
     "metadata": {},
     "output_type": "execute_result"
    }
   ],
   "source": [
    "# testing on unseen data\n",
    "unseen_news_text = [\"Donald Trump Sends Out Embarrassing New Year’s Eve Message; This is Disturbing\",     # Fake\n",
    "                    \"WATCH: George W. Bush Calls Out Trump For Supporting White Supremacy\",               # Fake\n",
    "                    \"U.S. lawmakers question businessman at 2016 Trump Tower meeting: sources\",           # True\n",
    "                    \"Trump administration issues new rules on U.S. visa waivers\"                          # True\n",
    "                    ]\n",
    "\n",
    "# tokenize and encode sequences in the test set\n",
    "MAX_LENGHT = 15\n",
    "tokens_unseen = tokenizer.batch_encode_plus(\n",
    "    unseen_news_text,\n",
    "    max_length = MAX_LENGHT,\n",
    "    pad_to_max_length=True,\n",
    "    truncation=True\n",
    ")\n",
    "\n",
    "unseen_seq = torch.tensor(tokens_unseen['input_ids'])\n",
    "unseen_mask = torch.tensor(tokens_unseen['attention_mask'])\n",
    "\n",
    "with torch.no_grad():\n",
    "  preds = model(unseen_seq, unseen_mask)\n",
    "  preds = preds.detach().cpu().numpy()\n",
    "\n",
    "preds = np.argmax(preds, axis = 1)\n",
    "preds"
   ]
  },
  {
   "cell_type": "code",
   "execution_count": 20,
   "id": "c9f7b57b",
   "metadata": {},
   "outputs": [],
   "source": [
    "torch.save(model.state_dict(), \"../models/bert_model.pth\")"
   ]
  },
  {
   "cell_type": "code",
   "execution_count": 22,
   "id": "b0033682",
   "metadata": {},
   "outputs": [
    {
     "data": {
      "text/plain": [
       "('../models/bert_model_tokenizer\\\\tokenizer_config.json',\n",
       " '../models/bert_model_tokenizer\\\\special_tokens_map.json',\n",
       " '../models/bert_model_tokenizer\\\\vocab.txt',\n",
       " '../models/bert_model_tokenizer\\\\added_tokens.json',\n",
       " '../models/bert_model_tokenizer\\\\tokenizer.json')"
      ]
     },
     "execution_count": 22,
     "metadata": {},
     "output_type": "execute_result"
    }
   ],
   "source": [
    "tokenizer.save_pretrained(\"../models/bert_model_tokenizer\")\n"
   ]
  },
  {
   "cell_type": "code",
   "execution_count": 1,
   "id": "a0d0646b",
   "metadata": {},
   "outputs": [
    {
     "data": {
      "image/png": "[encoded data removed]",
      "text/plain": [
       "<Figure size 1000x600 with 1 Axes>"
      ]
     },
     "metadata": {},
     "output_type": "display_data"
    }
   ],
   "source": [
    "import matplotlib.pyplot as plt\n",
    "\n",
    "# Model names and corresponding scores\n",
    "models = ['SVM', 'CNN', 'LSTM', 'BERT']\n",
    "accuracies = [0.8655, 0.8491, 0.8474, 0.76]\n",
    "f1_scores = [0.8644, 0.8490, 0.8470, 0.75]\n",
    "\n",
    "x = range(len(models))\n",
    "width = 0.35  # Width of bars\n",
    "\n",
    "# Plotting\n",
    "plt.figure(figsize=(10, 6))\n",
    "plt.bar(x, accuracies, width=width, label='Accuracy', color='skyblue')\n",
    "plt.bar([i + width for i in x], f1_scores, width=width, label='F1 Score', color='salmon')\n",
    "\n",
    "# Labels and title\n",
    "plt.xlabel('Models')\n",
    "plt.ylabel('Score')\n",
    "plt.title('Model Performance Comparison')\n",
    "plt.xticks([i + width/2 for i in x], models)\n",
    "plt.ylim(0.7, 0.9)\n",
    "plt.legend()\n",
    "plt.grid(axis='y', linestyle='--', alpha=0.7)\n",
    "plt.tight_layout()\n",
    "plt.show()\n"
   ]
  }
 ],
 "metadata": {
  "kernelspec": {
   "display_name": "venv",
   "language": "python",
   "name": "python3"
  },
  "language_info": {
   "codemirror_mode": {
    "name": "ipython",
    "version": 3
   },
   "file_extension": ".py",
   "mimetype": "text/x-python",
   "name": "python",
   "nbconvert_exporter": "python",
   "pygments_lexer": "ipython3",
   "version": "3.10.1"
  }
 },
 "nbformat": 4,
 "nbformat_minor": 5
}
